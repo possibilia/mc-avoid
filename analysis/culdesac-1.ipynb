{
 "cells": [
  {
   "cell_type": "code",
   "execution_count": 2,
   "id": "ba49feb1-1c26-4d7c-8f6e-a552780f0228",
   "metadata": {
    "tags": []
   },
   "outputs": [],
   "source": [
    "import pandas as pd\n",
    "import matplotlib.pyplot as plt"
   ]
  },
  {
   "cell_type": "code",
   "execution_count": 8,
   "id": "d5cc1237-8b9d-41da-b987-84bea26bd842",
   "metadata": {
    "tags": []
   },
   "outputs": [
    {
     "data": {
      "text/html": [
       "<div>\n",
       "<style scoped>\n",
       "    .dataframe tbody tr th:only-of-type {\n",
       "        vertical-align: middle;\n",
       "    }\n",
       "\n",
       "    .dataframe tbody tr th {\n",
       "        vertical-align: top;\n",
       "    }\n",
       "\n",
       "    .dataframe thead th {\n",
       "        text-align: right;\n",
       "    }\n",
       "</style>\n",
       "<table border=\"1\" class=\"dataframe\">\n",
       "  <thead>\n",
       "    <tr style=\"text-align: right;\">\n",
       "      <th></th>\n",
       "      <th>x</th>\n",
       "      <th>y</th>\n",
       "      <th>r</th>\n",
       "      <th>phi</th>\n",
       "    </tr>\n",
       "  </thead>\n",
       "  <tbody>\n",
       "    <tr>\n",
       "      <th>0</th>\n",
       "      <td>-0.8044</td>\n",
       "      <td>0.5907</td>\n",
       "      <td>0.998</td>\n",
       "      <td>2.5082</td>\n",
       "    </tr>\n",
       "    <tr>\n",
       "      <th>1</th>\n",
       "      <td>-0.7999</td>\n",
       "      <td>0.5935</td>\n",
       "      <td>0.996</td>\n",
       "      <td>2.5033</td>\n",
       "    </tr>\n",
       "    <tr>\n",
       "      <th>2</th>\n",
       "      <td>-0.7937</td>\n",
       "      <td>0.5951</td>\n",
       "      <td>0.992</td>\n",
       "      <td>2.4983</td>\n",
       "    </tr>\n",
       "    <tr>\n",
       "      <th>3</th>\n",
       "      <td>-0.7892</td>\n",
       "      <td>0.5977</td>\n",
       "      <td>0.990</td>\n",
       "      <td>2.4934</td>\n",
       "    </tr>\n",
       "    <tr>\n",
       "      <th>4</th>\n",
       "      <td>-0.7845</td>\n",
       "      <td>0.6006</td>\n",
       "      <td>0.988</td>\n",
       "      <td>2.4882</td>\n",
       "    </tr>\n",
       "  </tbody>\n",
       "</table>\n",
       "</div>"
      ],
      "text/plain": [
       "        x       y      r     phi\n",
       "0 -0.8044  0.5907  0.998  2.5082\n",
       "1 -0.7999  0.5935  0.996  2.5033\n",
       "2 -0.7937  0.5951  0.992  2.4983\n",
       "3 -0.7892  0.5977  0.990  2.4934\n",
       "4 -0.7845  0.6006  0.988  2.4882"
      ]
     },
     "execution_count": 8,
     "metadata": {},
     "output_type": "execute_result"
    }
   ],
   "source": [
    "import numpy as np\n",
    "\n",
    "data = np.genfromtxt('culdesac-scenario/1/map000.dat',\n",
    "                     skip_footer=1,\n",
    "                     names=True,\n",
    "                     dtype=None,\n",
    "                     delimiter='\\t')\n",
    "\n",
    "df = pd.DataFrame(data)\n",
    "df.head()"
   ]
  },
  {
   "cell_type": "code",
   "execution_count": 11,
   "id": "bb112875-d7e5-49f4-8e7e-2518d1513a03",
   "metadata": {
    "tags": []
   },
   "outputs": [
    {
     "data": {
      "text/plain": [
       "<matplotlib.collections.PathCollection at 0x1d9e3349b40>"
      ]
     },
     "execution_count": 11,
     "metadata": {},
     "output_type": "execute_result"
    },
    {
     "data": {
      "image/png": "[encoded data removed]",
      "text/plain": [
       "<Figure size 640x480 with 1 Axes>"
      ]
     },
     "metadata": {},
     "output_type": "display_data"
    }
   ],
   "source": [
    "plt.scatter(df.x, df.y)"
   ]
  },
  {
   "cell_type": "code",
   "execution_count": 16,
   "id": "6b941789-da32-44db-9bbf-63a49e700c9c",
   "metadata": {
    "tags": []
   },
   "outputs": [
    {
     "data": {
      "text/html": [
       "<div>\n",
       "<style scoped>\n",
       "    .dataframe tbody tr th:only-of-type {\n",
       "        vertical-align: middle;\n",
       "    }\n",
       "\n",
       "    .dataframe tbody tr th {\n",
       "        vertical-align: top;\n",
       "    }\n",
       "\n",
       "    .dataframe thead th {\n",
       "        text-align: right;\n",
       "    }\n",
       "</style>\n",
       "<table border=\"1\" class=\"dataframe\">\n",
       "  <thead>\n",
       "    <tr style=\"text-align: right;\">\n",
       "      <th></th>\n",
       "      <th>x</th>\n",
       "      <th>y</th>\n",
       "      <th>r</th>\n",
       "      <th>phi</th>\n",
       "    </tr>\n",
       "  </thead>\n",
       "  <tbody>\n",
       "    <tr>\n",
       "      <th>0</th>\n",
       "      <td>0.2400</td>\n",
       "      <td>-0.1467</td>\n",
       "      <td>0.2813</td>\n",
       "      <td>-0.5487</td>\n",
       "    </tr>\n",
       "    <tr>\n",
       "      <th>1</th>\n",
       "      <td>0.2384</td>\n",
       "      <td>-0.1477</td>\n",
       "      <td>0.2805</td>\n",
       "      <td>-0.5546</td>\n",
       "    </tr>\n",
       "    <tr>\n",
       "      <th>2</th>\n",
       "      <td>0.2359</td>\n",
       "      <td>-0.1483</td>\n",
       "      <td>0.2786</td>\n",
       "      <td>-0.5610</td>\n",
       "    </tr>\n",
       "    <tr>\n",
       "      <th>3</th>\n",
       "      <td>0.2343</td>\n",
       "      <td>-0.1492</td>\n",
       "      <td>0.2778</td>\n",
       "      <td>-0.5670</td>\n",
       "    </tr>\n",
       "    <tr>\n",
       "      <th>4</th>\n",
       "      <td>0.2317</td>\n",
       "      <td>-0.1500</td>\n",
       "      <td>0.2760</td>\n",
       "      <td>-0.5747</td>\n",
       "    </tr>\n",
       "  </tbody>\n",
       "</table>\n",
       "</div>"
      ],
      "text/plain": [
       "        x       y       r     phi\n",
       "0  0.2400 -0.1467  0.2813 -0.5487\n",
       "1  0.2384 -0.1477  0.2805 -0.5546\n",
       "2  0.2359 -0.1483  0.2786 -0.5610\n",
       "3  0.2343 -0.1492  0.2778 -0.5670\n",
       "4  0.2317 -0.1500  0.2760 -0.5747"
      ]
     },
     "execution_count": 16,
     "metadata": {},
     "output_type": "execute_result"
    }
   ],
   "source": [
    "data = np.genfromtxt('culdesac-scenario/1/east014.dat',\n",
    "                     skip_footer=1,\n",
    "                     names=True,\n",
    "                     dtype=None,\n",
    "                     delimiter='\\t')\n",
    "\n",
    "df_east = pd.DataFrame(data)\n",
    "df_east.head()"
   ]
  },
  {
   "cell_type": "code",
   "execution_count": 18,
   "id": "18fb926c-78a9-447e-82ce-e5f675924f89",
   "metadata": {
    "tags": []
   },
   "outputs": [
    {
     "data": {
      "text/plain": [
       "<matplotlib.collections.PathCollection at 0x1d9e1dcd690>"
      ]
     },
     "execution_count": 18,
     "metadata": {},
     "output_type": "execute_result"
    },
    {
     "data": {
      "image/png": "[encoded data removed]",
      "text/plain": [
       "<Figure size 640x480 with 1 Axes>"
      ]
     },
     "metadata": {},
     "output_type": "display_data"
    }
   ],
   "source": [
    "plt.scatter(df_east.x, df_east.y)"
   ]
  },
  {
   "cell_type": "code",
   "execution_count": 19,
   "id": "b9bf3bf8-4229-4cae-94d9-7f96564d65d1",
   "metadata": {
    "tags": []
   },
   "outputs": [
    {
     "data": {
      "text/html": [
       "<div>\n",
       "<style scoped>\n",
       "    .dataframe tbody tr th:only-of-type {\n",
       "        vertical-align: middle;\n",
       "    }\n",
       "\n",
       "    .dataframe tbody tr th {\n",
       "        vertical-align: top;\n",
       "    }\n",
       "\n",
       "    .dataframe thead th {\n",
       "        text-align: right;\n",
       "    }\n",
       "</style>\n",
       "<table border=\"1\" class=\"dataframe\">\n",
       "  <thead>\n",
       "    <tr style=\"text-align: right;\">\n",
       "      <th></th>\n",
       "      <th>x</th>\n",
       "      <th>y</th>\n",
       "      <th>r</th>\n",
       "      <th>phi</th>\n",
       "    </tr>\n",
       "  </thead>\n",
       "  <tbody>\n",
       "    <tr>\n",
       "      <th>0</th>\n",
       "      <td>-0.6260</td>\n",
       "      <td>0.7773</td>\n",
       "      <td>0.998</td>\n",
       "      <td>2.2488</td>\n",
       "    </tr>\n",
       "    <tr>\n",
       "      <th>1</th>\n",
       "      <td>-0.6223</td>\n",
       "      <td>0.7802</td>\n",
       "      <td>0.998</td>\n",
       "      <td>2.2441</td>\n",
       "    </tr>\n",
       "    <tr>\n",
       "      <th>2</th>\n",
       "      <td>-0.6177</td>\n",
       "      <td>0.7813</td>\n",
       "      <td>0.996</td>\n",
       "      <td>2.2398</td>\n",
       "    </tr>\n",
       "    <tr>\n",
       "      <th>3</th>\n",
       "      <td>-0.6141</td>\n",
       "      <td>0.7841</td>\n",
       "      <td>0.996</td>\n",
       "      <td>2.2352</td>\n",
       "    </tr>\n",
       "    <tr>\n",
       "      <th>4</th>\n",
       "      <td>-0.6092</td>\n",
       "      <td>0.7854</td>\n",
       "      <td>0.994</td>\n",
       "      <td>2.2305</td>\n",
       "    </tr>\n",
       "  </tbody>\n",
       "</table>\n",
       "</div>"
      ],
      "text/plain": [
       "        x       y      r     phi\n",
       "0 -0.6260  0.7773  0.998  2.2488\n",
       "1 -0.6223  0.7802  0.998  2.2441\n",
       "2 -0.6177  0.7813  0.996  2.2398\n",
       "3 -0.6141  0.7841  0.996  2.2352\n",
       "4 -0.6092  0.7854  0.994  2.2305"
      ]
     },
     "execution_count": 19,
     "metadata": {},
     "output_type": "execute_result"
    }
   ],
   "source": [
    "data = np.genfromtxt('culdesac-scenario/1/map014.dat',\n",
    "                     skip_footer=1,\n",
    "                     names=True,\n",
    "                     dtype=None,\n",
    "                     delimiter='\\t')\n",
    "\n",
    "df = pd.DataFrame(data)\n",
    "df.head()"
   ]
  },
  {
   "cell_type": "code",
   "execution_count": 20,
   "id": "a3f468cb-c0ee-480b-9db2-54e765e16cb4",
   "metadata": {
    "tags": []
   },
   "outputs": [
    {
     "data": {
      "text/plain": [
       "<matplotlib.collections.PathCollection at 0x1d9e3c62da0>"
      ]
     },
     "execution_count": 20,
     "metadata": {},
     "output_type": "execute_result"
    },
    {
     "data": {
      "image/png": "[encoded data removed]",
      "text/plain": [
       "<Figure size 640x480 with 1 Axes>"
      ]
     },
     "metadata": {},
     "output_type": "display_data"
    }
   ],
   "source": [
    "plt.scatter(df.x, df.y)\n",
    "plt.scatter(df_east.x, df_east.y)"
   ]
  },
  {
   "cell_type": "code",
   "execution_count": null,
   "id": "1436c8da-a7d9-4d41-879e-631cb25b1f1c",
   "metadata": {},
   "outputs": [],
   "source": []
  }
 ],
 "metadata": {
  "kernelspec": {
   "display_name": "Python 3 (ipykernel)",
   "language": "python",
   "name": "python3"
  },
  "language_info": {
   "codemirror_mode": {
    "name": "ipython",
    "version": 3
   },
   "file_extension": ".py",
   "mimetype": "text/x-python",
   "name": "python",
   "nbconvert_exporter": "python",
   "pygments_lexer": "ipython3",
   "version": "3.10.9"
  }
 },
 "nbformat": 4,
 "nbformat_minor": 5
}
